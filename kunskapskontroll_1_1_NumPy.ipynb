{
 "cells": [
  {
   "cell_type": "markdown",
   "id": "dacf74e6",
   "metadata": {},
   "source": [
    "# NumPy"
   ]
  },
  {
   "cell_type": "markdown",
   "id": "01b2bf34",
   "metadata": {},
   "source": [
    "Read the links: https://numpy.org/doc/stable/user/quickstart.html  and https://numpy.org/doc/stable/user/basics.broadcasting.html  before solving the exercises. "
   ]
  },
  {
   "cell_type": "code",
   "execution_count": 1,
   "id": "1f79e4a6",
   "metadata": {},
   "outputs": [],
   "source": [
    "import numpy as np"
   ]
  },
  {
   "cell_type": "markdown",
   "id": "7dae6889",
   "metadata": {},
   "source": [
    "### Print out the dimension (number of axes), shape, size and the datatype of the matrix A."
   ]
  },
  {
   "cell_type": "code",
   "execution_count": 4,
   "id": "7b3678cd",
   "metadata": {},
   "outputs": [],
   "source": [
    "A = np.arange(1, 16).reshape(3,5)"
   ]
  },
  {
   "cell_type": "code",
   "execution_count": 7,
   "id": "31d39235",
   "metadata": {},
   "outputs": [
    {
     "name": "stdout",
     "output_type": "stream",
     "text": [
      "number of axes 2\n",
      "shape: (3, 5)\n",
      "size: 15\n",
      "Datatype: int32\n"
     ]
    }
   ],
   "source": [
    "print(\"number of axes\", A.ndim)\n",
    "print(\"shape:\", A.shape)\n",
    "print(\"size:\", A.size)\n",
    "print(\"Datatype:\", A.dtype)"
   ]
  },
  {
   "cell_type": "markdown",
   "id": "e56d2a96",
   "metadata": {},
   "source": [
    "### Do the following computations on the matrices B and C: \n",
    "* Elementwise subtraction. \n",
    "* Elementwise multiplication. \n",
    "* Matrix multiplication (by default you should use the @ operator)."
   ]
  },
  {
   "cell_type": "code",
   "execution_count": 9,
   "id": "a7053fbb",
   "metadata": {},
   "outputs": [
    {
     "name": "stdout",
     "output_type": "stream",
     "text": [
      "[[1 2 3]\n",
      " [4 5 6]\n",
      " [7 8 9]]\n",
      "\n",
      "[[2. 2. 2.]\n",
      " [2. 2. 2.]\n",
      " [2. 2. 2.]]\n"
     ]
    }
   ],
   "source": [
    "B = np.arange(1, 10).reshape(3, 3)\n",
    "C = np.ones((3, 3))*2\n",
    "\n",
    "print(B)\n",
    "print()\n",
    "print(C)"
   ]
  },
  {
   "cell_type": "code",
   "execution_count": 17,
   "id": "3cd794ae",
   "metadata": {},
   "outputs": [
    {
     "name": "stdout",
     "output_type": "stream",
     "text": [
      "subtraction:\n",
      " [[-1.  0.  1.]\n",
      " [ 2.  3.  4.]\n",
      " [ 5.  6.  7.]]\n",
      "\n",
      "multiplication:\n",
      " [[ 2.  4.  6.]\n",
      " [ 8. 10. 12.]\n",
      " [14. 16. 18.]]\n",
      "\n",
      "matrix multiplication:\n",
      " [[12. 12. 12.]\n",
      " [30. 30. 30.]\n",
      " [48. 48. 48.]]\n"
     ]
    }
   ],
   "source": [
    "Elementwise_subtraction = B-C\n",
    "Elementwise_multiplication = B*C\n",
    "Matrix_multiplication = B@C\n",
    "\n",
    "print(\"subtraction:\\n\", Elementwise_subtraction)\n",
    "print()\n",
    "print(\"multiplication:\\n\", Elementwise_multiplication)\n",
    "print()\n",
    "print(\"matrix multiplication:\\n\", Matrix_multiplication)\n"
   ]
  },
  {
   "cell_type": "markdown",
   "id": "96030d53",
   "metadata": {},
   "source": [
    "### Do the following calculations on the matrix:\n",
    "* Exponentiate each number elementwise (use the np.exp function).\n",
    "\n",
    "* Calculate the minimum value in the whole matrix. \n",
    "* Calculcate the minimum value in each row. \n",
    "* Calculcate the minimum value in each column. \n",
    "\n",
    "\n",
    "* Find the index value for the minimum value in the whole matrix (hint: use np.argmin).\n",
    "* Find the index value for the minimum value in each row (hint: use np.argmin).\n",
    "\n",
    "\n",
    "* Calculate the sum for all elements.\n",
    "* Calculate the mean for each column. \n",
    "* Calculate the median for each column. "
   ]
  },
  {
   "cell_type": "code",
   "execution_count": 18,
   "id": "f8a9166b",
   "metadata": {},
   "outputs": [
    {
     "name": "stdout",
     "output_type": "stream",
     "text": [
      "[[1 2 3]\n",
      " [4 5 6]\n",
      " [7 8 9]]\n"
     ]
    }
   ],
   "source": [
    "B = np.arange(1, 10).reshape(3, 3)\n",
    "print(B)"
   ]
  },
  {
   "cell_type": "code",
   "execution_count": 21,
   "id": "f03f24f7",
   "metadata": {},
   "outputs": [
    {
     "name": "stdout",
     "output_type": "stream",
     "text": [
      "e^x i varje element:\n",
      " [[2.71828183e+00 7.38905610e+00 2.00855369e+01]\n",
      " [5.45981500e+01 1.48413159e+02 4.03428793e+02]\n",
      " [1.09663316e+03 2.98095799e+03 8.10308393e+03]]\n",
      "\n",
      "minsta värdet i hela B: \n",
      " 1\n",
      "\n",
      "minsta värdet i varje rad: \n",
      " [1 4 7]\n",
      "\n",
      "minsta värdet i varje kolumn: \n",
      " [1 2 3]\n",
      "\n",
      "index för minsta värdet: \n",
      " 0\n",
      "\n",
      "index för minsta värdet i varje rad: \n",
      " [0 0 0]\n",
      "\n",
      "Summan av alla element: \n",
      " 45\n",
      "\n",
      "Medelvärdet av varje kolumn: \n",
      " [4. 5. 6.]\n",
      "\n",
      "Medianvärdet (mitten) av varje kolumn: \n",
      " [4. 5. 6.]\n"
     ]
    }
   ],
   "source": [
    "Exponentiate_elementwise = np.exp(B)   # detta är e^x för varje element i B\n",
    "min_value = np.min(B)\n",
    "minvalue_row = np.min(B, axis=1)\n",
    "minvalue_col = np.min(B, axis=0)\n",
    "index_min= np.argmin(B)\n",
    "index_min_row = np.argmin(B, axis=1)\n",
    "Sum = np.sum(B)\n",
    "Mean_column = np.mean(B, axis=0)\n",
    "Median_column = np.median(B, axis=0)\n",
    "\n",
    "print(\"e^x i varje element:\\n\", Exponentiate_elementwise)\n",
    "print()\n",
    "print(\"minsta värdet i hela B: \\n\", min_value)\n",
    "print()\n",
    "print(\"minsta värdet i varje rad: \\n\", minvalue_row)\n",
    "print()\n",
    "print(\"minsta värdet i varje kolumn: \\n\", minvalue_col)\n",
    "print()\n",
    "print(\"index för minsta värdet: \\n\", index_min)\n",
    "print()\n",
    "print(\"index för minsta värdet i varje rad: \\n\", index_min_row)\n",
    "print()\n",
    "print(\"Summan av alla element: \\n\", Sum)\n",
    "print()\n",
    "print(\"Medelvärdet av varje kolumn: \\n\", Mean_column)\n",
    "print()\n",
    "print(\"Medianvärdet (mitten) av varje kolumn: \\n\", Median_column)\n"
   ]
  },
  {
   "cell_type": "markdown",
   "id": "541eb7ba",
   "metadata": {},
   "source": [
    "### What does it mean when you provide fewer indices than axes when slicing? See example below."
   ]
  },
  {
   "cell_type": "code",
   "execution_count": 22,
   "id": "9c8abf56",
   "metadata": {},
   "outputs": [
    {
     "name": "stdout",
     "output_type": "stream",
     "text": [
      "[[ 1  2  3  4  5]\n",
      " [ 6  7  8  9 10]\n",
      " [11 12 13 14 15]]\n"
     ]
    }
   ],
   "source": [
    "print(A)"
   ]
  },
  {
   "cell_type": "code",
   "execution_count": 23,
   "id": "69415f7b",
   "metadata": {},
   "outputs": [
    {
     "data": {
      "text/plain": [
       "array([ 6,  7,  8,  9, 10])"
      ]
     },
     "execution_count": 23,
     "metadata": {},
     "output_type": "execute_result"
    }
   ],
   "source": [
    "A[1]"
   ]
  },
  {
   "cell_type": "markdown",
   "id": "6c53541b",
   "metadata": {},
   "source": [
    "**Answer:**"
   ]
  },
  {
   "cell_type": "markdown",
   "id": "a271a3c0",
   "metadata": {},
   "source": [
    "### `[[ 1  2  3  4  5]` detta är index 0\n",
    "### `[ 6  7  8  9 10]`detta är index 1  \n",
    "### `[11 12 13 14 15]]` detta är index 2\n",
    "### `A[1]`  retunerar index 1 vilket är rad 2\n",
    "det betyder att  du får ut alla element i den dimensionen som du inte har angett något index för"
   ]
  },
  {
   "cell_type": "markdown",
   "id": "6652d0c9",
   "metadata": {},
   "source": [
    "### Iterating over multidimensional arrays is done with respect to the first axis, so in the example below we iterate trough the rows. If you would like to iterate through the array *elementwise*, how would you do that?"
   ]
  },
  {
   "cell_type": "code",
   "execution_count": 24,
   "id": "9459864f",
   "metadata": {},
   "outputs": [
    {
     "data": {
      "text/plain": [
       "array([[ 1,  2,  3,  4,  5],\n",
       "       [ 6,  7,  8,  9, 10],\n",
       "       [11, 12, 13, 14, 15]])"
      ]
     },
     "execution_count": 24,
     "metadata": {},
     "output_type": "execute_result"
    }
   ],
   "source": [
    "A"
   ]
  },
  {
   "cell_type": "code",
   "execution_count": 25,
   "id": "a671bb5a",
   "metadata": {},
   "outputs": [
    {
     "name": "stdout",
     "output_type": "stream",
     "text": [
      "[1 2 3 4 5]\n",
      "[ 6  7  8  9 10]\n",
      "[11 12 13 14 15]\n"
     ]
    }
   ],
   "source": [
    "for i in A:\n",
    "    print(i)"
   ]
  },
  {
   "cell_type": "code",
   "execution_count": 29,
   "id": "f4e443a0",
   "metadata": {},
   "outputs": [
    {
     "name": "stdout",
     "output_type": "stream",
     "text": [
      "1\n",
      "2\n",
      "3\n",
      "4\n",
      "5\n",
      "6\n",
      "7\n",
      "8\n",
      "9\n",
      "10\n",
      "11\n",
      "12\n",
      "13\n",
      "14\n",
      "15\n"
     ]
    }
   ],
   "source": [
    "for i in A.flat:\n",
    "    print(i)"
   ]
  },
  {
   "cell_type": "markdown",
   "id": "608a2583",
   "metadata": {},
   "source": [
    "### Explain what the code below does. More specifically, b has three axes - what does this mean? "
   ]
  },
  {
   "cell_type": "code",
   "execution_count": 30,
   "id": "f8f9b26f",
   "metadata": {},
   "outputs": [
    {
     "name": "stdout",
     "output_type": "stream",
     "text": [
      "[ 0  1  2  3  4  5  6  7  8  9 10 11 12 13 14 15 16 17 18 19 20 21 22 23\n",
      " 24 25 26 27 28 29]\n",
      "\n",
      "[[[ 0  1  2  3  4]\n",
      "  [ 5  6  7  8  9]\n",
      "  [10 11 12 13 14]]\n",
      "\n",
      " [[15 16 17 18 19]\n",
      "  [20 21 22 23 24]\n",
      "  [25 26 27 28 29]]]\n"
     ]
    }
   ],
   "source": [
    "a = np.arange(30)\n",
    "b = a.reshape((2, 3, -1))\n",
    "print(a)\n",
    "print()\n",
    "\n",
    "print(b)"
   ]
  },
  {
   "cell_type": "markdown",
   "id": "6596e0e5",
   "metadata": {},
   "source": [
    "# Svar: \n",
    "`a = np.arrage(30)` : Skapar numpy-array som innehåller värden från 0 till 29\n",
    "\n",
    "`b = a.reshape((2, 3, -1))` = Reshapar a till en 3D-array, `2`: två \"Grupper\", `3`: varje grupp har 3 rader `-1`: automatik uträkning av hur många element varje rad ska ha (för att uppnå 30)\n",
    "\n",
    "`print(a)`  = skriver ut värderna 0-29 (30)\n",
    "\n",
    "`print(b)` = skriver ut arrayen b med 2 grupper där första gruppen (0-14) och andra (15-29) \n",
    "\n",
    "## Att b har 3 axlar:\n",
    "\n",
    "`axis 0 =`: antal \"grupper\" , 2 i detta fall \n",
    "\n",
    "`axis 1 =`: raderna i varje grupp , 3 i detta fall\n",
    "\n",
    "`axis 2 =`: kolumner i varje rad, (här har varje rad 5 element)"
   ]
  },
  {
   "cell_type": "markdown",
   "id": "ab5933d5",
   "metadata": {},
   "source": [
    "### Broadcasting\n",
    "**Read the following link about broadcasting: https://numpy.org/doc/stable/user/basics.broadcasting.html#basics-broadcasting**"
   ]
  },
  {
   "cell_type": "markdown",
   "id": "039805ba",
   "metadata": {},
   "source": [
    "# Remark on Broadcasting when doing Linear Algebra calculations in Python. "
   ]
  },
  {
   "cell_type": "markdown",
   "id": "c4bcc147",
   "metadata": {},
   "source": [
    "### From the mathematical rules of matrix addition, the operation below (m1 + m2) does not make sense. The reason is that matrix addition requires two matrices of the same size. In Python however, it works due to broadcasting rules in NumPy. So you must be careful when doing Linear Algebra calculations in Python since they do not follow the \"mathematical rules\". This can however easily be handled by doing some simple programming, for example validating that two matrices have the same shape is easy if you for instance want to add two matrices. "
   ]
  },
  {
   "cell_type": "code",
   "execution_count": 32,
   "id": "1fd46778",
   "metadata": {},
   "outputs": [
    {
     "name": "stdout",
     "output_type": "stream",
     "text": [
      "[[2 3]\n",
      " [4 5]]\n"
     ]
    }
   ],
   "source": [
    "m1 = np.array([[1, 2], [3, 4]])\n",
    "m2 = np.array([1, 1])\n",
    "print(m1 + m2)"
   ]
  },
  {
   "cell_type": "markdown",
   "id": "047d6576",
   "metadata": {},
   "source": [
    "### The example below would also not be allowed if following the \"mathematical rules\" in Linear Algebra. But it works due to broadcasting in NumPy. "
   ]
  },
  {
   "cell_type": "code",
   "execution_count": 33,
   "id": "5e6ef2e4",
   "metadata": {},
   "outputs": [
    {
     "name": "stdout",
     "output_type": "stream",
     "text": [
      "[2 3 4]\n"
     ]
    }
   ],
   "source": [
    "v1 = np.array([1, 2, 3])\n",
    "print(v1 + 1)"
   ]
  },
  {
   "cell_type": "code",
   "execution_count": 34,
   "id": "e2cbae26",
   "metadata": {},
   "outputs": [
    {
     "name": "stdout",
     "output_type": "stream",
     "text": [
      "[[1 2]\n",
      " [3 4]]\n",
      "[2 2]\n"
     ]
    }
   ],
   "source": [
    "A = np.arange(1, 5).reshape(2,2)\n",
    "print(A)\n",
    "\n",
    "b = np.array([2, 2])\n",
    "print(b)"
   ]
  },
  {
   "cell_type": "markdown",
   "id": "722fd5cd",
   "metadata": {},
   "source": [
    "# Vector- and matrix algebra Exercises"
   ]
  },
  {
   "cell_type": "markdown",
   "id": "b63a3081-d976-4d9f-bfd0-a63917e79f7d",
   "metadata": {},
   "source": [
    "**Now you are going to create a function that can be reused every time you add or multiply matrices. The function is created so that we do the addition and multiplication according to the rules of vector- and matrix algebra.**\n",
    "\n",
    "**Create a function \"add_mult_matrices\" that takes two matrices as input arguments\n",
    "\n",
    "(validate that the input are of the type numpy.ndarray by using the isinstance function), \n",
    "\n",
    "a third argument that is either 'add' or 'multiply' that specifies if you want to add or multiply the matrices \n",
    "(validate that the third argument is either 'add' or 'multiply'). \n",
    "\n",
    "When doing matrix addition, validate that the matrices have the same size.\n",
    "\n",
    "When doing matrix multiplication, validate that the sizes conform (i.e. number of columns in the first matrix is equal to the number of rows in the second matrix).**"
   ]
  },
  {
   "cell_type": "code",
   "execution_count": 152,
   "id": "3506f977-ac0a-473f-85bc-eec9f35dc498",
   "metadata": {},
   "outputs": [
    {
     "name": "stdout",
     "output_type": "stream",
     "text": [
      "[[ 6  8]\n",
      " [10 12]]\n"
     ]
    }
   ],
   "source": [
    "import numpy as np\n",
    "\n",
    "def add_mult_matrices(A, B, addmult):\n",
    "    A = np.array(A) #gör om A till en numpy array\n",
    "    B = np.array(B)     \n",
    "\n",
    "    if not isinstance(A, np.ndarray): #isistance kollar om A är en numpy array\n",
    "        return \" A is not a numpy array\" \n",
    "    if not isinstance(B, np.ndarray): \n",
    "        return \" B is not a numpy array\"\n",
    "    \n",
    "    if addmult not in ['add', 'multiply']:\n",
    "        return \"choose add or multiply\"\n",
    "    \n",
    "    if addmult == \"add\":\n",
    "        if A.shape != B.shape:\n",
    "            return \"Most have the same size for addition\"\n",
    "        else:\n",
    "          return (A + B)\n",
    "        \n",
    "    elif addmult == \"multiply\":\n",
    "        if A.shape[1] != B.shape[0]:\n",
    "            return \"The number of columns in A must be equal to the number of rows in B\"\n",
    "        else:\n",
    "            return (A @ B)\n",
    "        \n",
    "Ex_A = [[1, 2], [3, 4]]\n",
    "Ex_B = [[5, 6], [7, 8]]\n",
    "c = add_mult_matrices(Ex_A, Ex_B, \"add\")\n",
    "print(c)"
   ]
  },
  {
   "cell_type": "markdown",
   "id": "8dad82d0-2359-4dff-8f5b-a57d3e34103c",
   "metadata": {},
   "source": [
    "### Solve all the exercises in chapter 10.1 in the book \"Matematik för yrkeshögskolan\". "
   ]
  },
  {
   "cell_type": "code",
   "execution_count": 107,
   "id": "89df88af-3668-4d98-a0a4-e6d92eea0f89",
   "metadata": {},
   "outputs": [
    {
     "name": "stdout",
     "output_type": "stream",
     "text": [
      "(A) Dimension: (1, 2)\n",
      "\n",
      "(B) 5x =  [[20 15]]\n",
      "\n",
      "(C) 3x =  [[12  9]]\n",
      "\n",
      "(D) 5x + 3x =  [[32 24]]\n",
      "\n",
      "(E) 8x =  [[32 24]]\n",
      "\n",
      "(F) 4x - x = [[12  9]]\n",
      "\n",
      "(G) x^T = \n",
      " [[4]\n",
      " [3]] \n",
      " New dimension = (2, 1)\n",
      "\n",
      "(H) x och x^T har inte samma dimension\n",
      "\n",
      "(I) Normen av x =  5.0\n"
     ]
    }
   ],
   "source": [
    "## UPPGIFT 10.1.1\n",
    "\n",
    "import numpy as np\n",
    "\n",
    "\n",
    "x = np.array([[4,3]])\n",
    "\n",
    "dimenson_x = x.shape #kollar dimensionen på x\n",
    "print(\"(A) Dimension:\", dimenson_x) #skriver ut dimensionen på x\n",
    "print()\n",
    "\n",
    "calculate_5x = 5*x #multiplicerar x med 5\n",
    "print(\"(B) 5x = \", calculate_5x) #skriver ut 5*x\n",
    "print()\n",
    "\n",
    "calculate_3x = 3*x #multiplicerar x med 3\n",
    "print(\"(C) 3x = \", calculate_3x) #skriver ut 3*x\n",
    "print()\n",
    "\n",
    "calculate_5x_plus_3x = 5*x + 3*x #adderar 5*x och 3*x\n",
    "print(\"(D) 5x + 3x = \", calculate_5x_plus_3x) #skriver ut 5*x + 3*x\n",
    "print()\n",
    "\n",
    "calculate_8x = 8*x #multiplicerar x med 8\n",
    "print(\"(E) 8x = \", calculate_8x) #skriver ut 8*x\n",
    "print()\n",
    "\n",
    "calculate_4x_minus_x = 4*x - x #subtraherar x från 4*x\n",
    "print(\"(F) 4x - x =\", calculate_4x_minus_x) #skriver ut 4*x - x\n",
    "print()\n",
    "\n",
    "transponera_x = x.T #transponerar x\n",
    "dimension_tr = transponera_x.shape #kollar dimensionen på transponerade x\n",
    "print(\"(G) x^T = \\n\", transponera_x, \"\\n New dimension =\", dimension_tr) #skriver ut transponerade x\n",
    "print()\n",
    "\n",
    "if x.shape == transponera_x.shape:\n",
    "    definierat = x + transponera_x \n",
    "    print(\"(H) x och x^T har samma dimension\") \n",
    "else: \n",
    "    print(\"(H) x och x^T har inte samma dimension\")\n",
    "print()\n",
    "\n",
    "normen_x = np.linalg.norm(x) #räknar ut normen av x, linlang står för \n",
    "print(\"(I) Normen av x = \", normen_x) #skriver ut normen av x    "
   ]
  },
  {
   "cell_type": "code",
   "execution_count": 109,
   "id": "b806b25a",
   "metadata": {},
   "outputs": [
    {
     "name": "stdout",
     "output_type": "stream",
     "text": [
      "(A) Dimension: (1, 4)\n",
      "\n",
      "(B) 2v =  [[ 6 14  0 22]]\n",
      "\n",
      "(C) 5v + 2v =  [[21 49  0 77]]\n",
      "\n",
      "(D) 4v - 2v =  [[ 6 14  0 22]]\n",
      "\n",
      "(E) v^T = \n",
      " [[ 3]\n",
      " [ 7]\n",
      " [ 0]\n",
      " [11]] \n",
      " New dimension = (4, 1)\n",
      "\n",
      "(F) Normen av v =  13.379088160259652\n"
     ]
    }
   ],
   "source": [
    "## UPPGIFT 10.1.2\n",
    "v = np.array([[3,7,0,11]])\n",
    "dimension = v.shape \n",
    "print(\"(A) Dimension:\", dimension)\n",
    "print()\n",
    "\n",
    "calculate_2v = 2*v\n",
    "print(\"(B) 2v = \", calculate_2v)\n",
    "print()\n",
    "\n",
    "calculate5v_2v = 5*v + 2*v\n",
    "print(\"(C) 5v + 2v = \", calculate5v_2v)\n",
    "print()\n",
    "\n",
    "calculate4v_2v = 4*v - 2*v\n",
    "print(\"(D) 4v - 2v = \", calculate4v_2v)\n",
    "print()\n",
    "\n",
    "transponera_v = v.T\n",
    "dimension_tr = transponera_v.shape\n",
    "print(\"(E) v^T = \\n\", transponera_v, \"\\n New dimension =\", dimension_tr) \n",
    "print()\n",
    "\n",
    "normen_v = np.linalg.norm(v)\n",
    "print(\"(F) Normen av v = \", normen_v)\n"
   ]
  },
  {
   "cell_type": "code",
   "execution_count": 115,
   "id": "087fe55b",
   "metadata": {},
   "outputs": [
    {
     "name": "stdout",
     "output_type": "stream",
     "text": [
      "(A) Normen av v1 =  7.14142842854285\n",
      "(B) Normen av v1-v2 =  4.47213595499958\n"
     ]
    }
   ],
   "source": [
    "## UPPGIFT 10.1.3\n",
    "v1 = np.array([4, 3, 1, 5])\n",
    "v2 = np.array([2, 3, 1, 1])\n",
    "\n",
    "normen_v1 = np.linalg.norm(v1)\n",
    "print(\"(A) Normen av v1 = \", normen_v1)\n",
    "\n",
    "\n",
    "normen_v1_v2 = np.linalg.norm(v1 - v2)\n",
    "print(\"(B) Normen av v1-v2 = \", normen_v1_v2) "
   ]
  },
  {
   "cell_type": "markdown",
   "id": "75c98984-1f88-4df1-b850-d2466de444a5",
   "metadata": {},
   "source": [
    "### Solve all the exercises, except 10.2.4, in chapter 10.2 in the book \"Matematik för yrkeshögskolan\". "
   ]
  },
  {
   "cell_type": "code",
   "execution_count": 137,
   "id": "65371610-16e1-48b2-b7fb-65e49002608a",
   "metadata": {},
   "outputs": [
    {
     "name": "stdout",
     "output_type": "stream",
     "text": [
      "(A) 2A = \n",
      " [[ 4  2 -2]\n",
      " [ 2 -2  2]]\n",
      "\n",
      "(B) B - 2A = \n",
      " [[ 0 -4  3]\n",
      " [ 0 -2 -4]]\n",
      "\n",
      "(C) 3C - 2E = Ej definierad på grund av olika dimensioner\n",
      "\n",
      "(D) 2D - 3C = \n",
      " [[3 2]\n",
      " [2 3]]\n",
      "\n",
      "(E) D^T + 2D = \n",
      " [[ 9 12]\n",
      " [12  9]]\n",
      "\n",
      "(F) 2C^T - 2D^T = \n",
      " [[-4 -4]\n",
      " [-4 -4]]\n",
      "\n",
      "(G) A^T - B = Ej definierat\n",
      "\n",
      "(H) AC = Ej definierat eftersom antalet kolumner i A inte är lika med antalet rader i C\n",
      "\n",
      "(I) CD = \n",
      " [[11 10]\n",
      " [10 11]]\n",
      "\n",
      "(J) CB = \n",
      " [[  8 -10  -3]\n",
      " [ 10  -8   0]]\n",
      "\n",
      "(K) CI= \n",
      " [[1 2]\n",
      " [2 1]]\n",
      "\n",
      "(L) AB^T = \n",
      " [[5 2]\n",
      " [7 4]]\n",
      "\n"
     ]
    }
   ],
   "source": [
    "## UPPGIFT 10.2.1\n",
    "\n",
    "A = np.array([[2, 1, -1], [1, -1, 1]])\n",
    "B = np.array([[4, -2, 1], [2, -4, -2]])\n",
    "C = np.array([[1, 2], [2, 1]])\n",
    "D = np.array([[3, 4], [4, 3]])\n",
    "E = np.array([[1], [2]])\n",
    "I = np.array([[1, 0], [0, 1]])\n",
    "\n",
    "calculate_2A = 2*A\n",
    "print(\"(A) 2A = \\n\", calculate_2A)\n",
    "print()\n",
    "\n",
    "calculate_B_2A = B - 2*A\n",
    "print(\"(B) B - 2A = \\n\", calculate_B_2A)\n",
    "print()\n",
    "\n",
    "if C.shape == E.shape:\n",
    "    calculate_3C_2E = 3 * C - 2 * E\n",
    "    print(\"(C) 3C - 2E = \\n\", calculate_3C_2E)\n",
    "else:\n",
    "    print(\"(C) 3C - 2E = Ej definierad på grund av olika dimensioner\")\n",
    "print()\n",
    "\n",
    "calculate_2D_3C = 2*D - 3*C\n",
    "print(\"(D) 2D - 3C = \\n\", calculate_2D_3C)\n",
    "print()\n",
    "\n",
    "calculate_Dt_2D = D.T + 2*D\n",
    "print(\"(E) D^T + 2D = \\n\", calculate_Dt_2D)\n",
    "print()\n",
    "\n",
    "calculate_2Ct_2Dt = 2*C.T - 2*D.T\n",
    "print(\"(F) 2C^T - 2D^T = \\n\", calculate_2Ct_2Dt)\n",
    "print()\n",
    "\n",
    "try:\n",
    "    calculate_At_B = A.T - B \n",
    "    print(\"(G) A^T - B = \\n\", calculate_At_B)\n",
    "except ValueError:\n",
    "    print(\"(G) A^T - B = Ej definierat\")\n",
    "print()\n",
    "\n",
    "try:\n",
    "    calculate_AC = A @ C\n",
    "    print(\"(H) AC = \\n\", calculate_AC)\n",
    "except ValueError:\n",
    "    print(\"(H) AC = Ej definierat eftersom antalet kolumner i A inte är lika med antalet rader i C\")\n",
    "print()\n",
    "\n",
    "calculate_CD = C @ D\n",
    "print(\"(I) CD = \\n\", calculate_CD)\n",
    "print()\n",
    "\n",
    "calculate_CB = C @ B\n",
    "print(\"(J) CB = \\n\", calculate_CB)\n",
    "print()\n",
    "\n",
    "calculate_CI = C @ I\n",
    "print(\"(K) CI= \\n\", calculate_CI)\n",
    "print()\n",
    "\n",
    "calculate_ABt = A @ B.T\n",
    "print(\"(L) AB^T = \\n\", calculate_ABt)\n",
    "print()"
   ]
  },
  {
   "cell_type": "code",
   "execution_count": 142,
   "id": "eca611cc",
   "metadata": {},
   "outputs": [
    {
     "name": "stdout",
     "output_type": "stream",
     "text": [
      "A*A^T =\n",
      "  [[29 26]\n",
      " [26 42]]\n"
     ]
    }
   ],
   "source": [
    "# UPPGIFT 10.2.2\n",
    "A = np.array([[2,3,4], [5,4,1]])\n",
    "\n",
    "Calculate_AAt = A @ A.T\n",
    "print(\"A*A^T =\\n \",Calculate_AAt)"
   ]
  },
  {
   "cell_type": "code",
   "execution_count": 146,
   "id": "88adf836",
   "metadata": {},
   "outputs": [
    {
     "name": "stdout",
     "output_type": "stream",
     "text": [
      "A*B =\n",
      "  [[ 4  7]\n",
      " [ 8 14]]\n",
      "\n",
      "A*C =\n",
      "  [[ 4  7]\n",
      " [ 8 14]]\n",
      "\n",
      "AB = AC\n",
      "\n",
      "B is not equal to C\n"
     ]
    }
   ],
   "source": [
    "#UPPGIFT 10.2.3\n",
    "A = np.array([[1,2], [2,4]])\n",
    "B = np.array([[2,1], [1,3]])\n",
    "C = np.array([[4,3], [0,2]])\n",
    "\n",
    "Calculate_AB = A @ B\n",
    "print(\"A*B =\\n \",Calculate_AB)\n",
    "print()\n",
    "\n",
    "Calculate_AC= A @ C\n",
    "print(\"A*C =\\n \",Calculate_AC)\n",
    "print()\n",
    "\n",
    "if np.array_equal (Calculate_AB, Calculate_AC):\n",
    "    print(\"AB = AC\")\n",
    "else:\n",
    "    print(\"AB != AC\")\n",
    "print() \n",
    "\n",
    "if not np.array_equal (B , C):\n",
    "    print(\"B is not equal to C\")\n",
    "else:\n",
    "    print(\"B = C\")"
   ]
  },
  {
   "cell_type": "markdown",
   "id": "6a4a524f",
   "metadata": {},
   "source": [
    "### Copies and Views\n",
    "Read the following link: https://numpy.org/doc/stable/user/basics.copies.html"
   ]
  },
  {
   "cell_type": "markdown",
   "id": "6cbbeaf7",
   "metadata": {},
   "source": [
    "**Basic indexing creates a view, How can you check if v1 and v2 is a view or copy? If you change the last element in v2 to 123, will the last element in v1 be changed? Why?**"
   ]
  },
  {
   "cell_type": "markdown",
   "id": "039602fb",
   "metadata": {},
   "source": [
    "View: Delar samma data som originalarrayen. Om man ändrar elementi viewen ändras samma element i original arrayen \n",
    "\n",
    "Copy: Har egen separat kopia av datan. Därav ändras inte originalarrayen"
   ]
  },
  {
   "cell_type": "code",
   "execution_count": 147,
   "id": "5b9ef4df",
   "metadata": {},
   "outputs": [
    {
     "name": "stdout",
     "output_type": "stream",
     "text": [
      "[0 1 2 3]\n",
      "[2 3]\n"
     ]
    }
   ],
   "source": [
    "v1 = np.arange(4) #skapar en array med värden 0-3\n",
    "v2 = v1[-2:] #väljer de två sista elementen i v1 och sparar i v2\n",
    "print(v1) #skriver ut v1\n",
    "print(v2) #skriver ut v2\n"
   ]
  },
  {
   "cell_type": "code",
   "execution_count": 148,
   "id": "d2440489",
   "metadata": {},
   "outputs": [
    {
     "name": "stdout",
     "output_type": "stream",
     "text": [
      "None\n",
      "[0 1 2 3]\n"
     ]
    }
   ],
   "source": [
    "# The base attribute of a view returns the original array while it returns None for a copy.\n",
    "print(v1.base) #skriver ut v1s base\n",
    "print(v2.base)  #skriver ut v2s base"
   ]
  },
  {
   "cell_type": "code",
   "execution_count": 149,
   "id": "c8752807",
   "metadata": {},
   "outputs": [
    {
     "name": "stdout",
     "output_type": "stream",
     "text": [
      "[  0   1   2 123]\n",
      "[  2 123]\n"
     ]
    }
   ],
   "source": [
    "# The last element in v1 will be changed aswell since v2 is a view, meaning they share the same data buffer.\n",
    "v2[-1] = 123    #ändrar det sista elementet i v2 till 123\n",
    "print(v1)    #skriver ut v1 \n",
    "print(v2)   #skriver ut v2"
   ]
  },
  {
   "cell_type": "code",
   "execution_count": null,
   "id": "43410e08",
   "metadata": {},
   "outputs": [],
   "source": []
  }
 ],
 "metadata": {
  "kernelspec": {
   "display_name": "base",
   "language": "python",
   "name": "python3"
  },
  "language_info": {
   "codemirror_mode": {
    "name": "ipython",
    "version": 3
   },
   "file_extension": ".py",
   "mimetype": "text/x-python",
   "name": "python",
   "nbconvert_exporter": "python",
   "pygments_lexer": "ipython3",
   "version": "3.12.4"
  }
 },
 "nbformat": 4,
 "nbformat_minor": 5
}
