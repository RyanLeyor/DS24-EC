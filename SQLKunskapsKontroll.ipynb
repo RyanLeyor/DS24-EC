{
 "cells": [
  {
   "cell_type": "markdown",
   "metadata": {},
   "source": [
    "# Kunskapskontroll SQL"
   ]
  },
  {
   "cell_type": "markdown",
   "metadata": {},
   "source": [
    "### Teoretiska Frågor "
   ]
  },
  {
   "cell_type": "markdown",
   "metadata": {},
   "source": [
    "# 1. Beskriv kort hur en relationsdatabas fungerar\n",
    "\n",
    "En relationsdatabas är en typ av databas som organiserar data i tabeller (relations). \n",
    "\n",
    "- Tabeller är relaterade till varandra genom \"primärnycklar (PRIMARY KEY)\" och främmande nycklar (FOREIGN KEY).\n",
    "\n",
    "\n",
    "## Exempel:\n",
    "\n",
    "## En databas för en Restaurang \n",
    "\n",
    "#### Tabell: Meny\n",
    "     MatID Primary Key\n",
    "     Namn\n",
    "     Pris\n",
    "\n",
    "#### Tabell : Beställningar\n",
    "    BäställningID PRIMARY KEY\n",
    "    MatID FOREIGN KEY\n",
    "    Datum\n",
    "\n",
    "Här har Beställningar.MatID och Meny.MatID en \"relation\" och kan därav hämtas genom JOIN, SELECET, INSERT osv..\n",
    "\n"
   ]
  },
  {
   "cell_type": "markdown",
   "metadata": {},
   "source": [
    "## 2. Vad menas med “CRUD”-flödet?\n",
    "\n",
    "CRUD står för de fyra grundläggande operationerna i en databas:\n",
    "- **Create**: Lägga till/skapa rader i en tabell\n",
    "- **Read**: Läs ut och hämta data från tabeller.\n",
    "- **Update**: Uppdatera existerande data.\n",
    "- **Delete**: Ta bort rader från en tabell\n",
    "\n",
    "\n"
   ]
  },
  {
   "cell_type": "markdown",
   "metadata": {},
   "source": [
    "## 3. Beskriv kort vad en “left join” och en “inner join” är\n",
    "\n",
    "- **Inner Join**: Returnerar endast de rader som har en matchning i båda tabellerna. Matchningarna måste vara rader från vänstra och högra tabellen\n",
    "\n",
    "\n",
    "-  **Left Join**: Den kombinerar rader från två tabeller, men behåller alla rader från den vänstra tabellen, även om det inte finns någon matchande rad i den högra tabellen. För de rader där det inte finns någon matchning kommer värdena i den högra tabellen att vara NULL.\n",
    "\n",
    "\n"
   ]
  },
  {
   "cell_type": "markdown",
   "metadata": {},
   "source": [
    "\n",
    "## 4. Beskriv kort vad indexering i SQL innebär\n",
    "\n",
    "- **Indexering**  används för att göra sökningar snabbare i en databas genom att minska antalet läsoperationer/göra så att databasen kan hitta specifika värden utan att behöva gå igenom alla rader \n",
    ".\n",
    "- Exempel: \n",
    "\n",
    "        CREATE INDEX idx_kolumn ON Tabell(kolumn);\n"
   ]
  },
  {
   "cell_type": "markdown",
   "metadata": {},
   "source": [
    "#### **5. Beskriv kort vad en vy i SQL är.**\n",
    "\n",
    "\n",
    "En vy är en sparad SQL-fråga som fungerar som en virtuell tabell.\n",
    "\n",
    "\n",
    "\n",
    "- Om man har en lång och komplicerad fråga som kan man skapa en vy för att göra det enklare att använda.\n",
    "- Man kan begränsa åtkomsten till vissa data genom att skapa vyer som bara visar de delar av tabellerna som berörda användare behöver se."
   ]
  },
  {
   "cell_type": "markdown",
   "metadata": {},
   "source": [
    "#### **6. Beskriv kort vad en lagrad procedur i SQL är.**\n",
    "\n",
    "En lagrad procedur är en uppsättning SQL-kommandon som sparas i databasen och kan köras flera gånger. Den kan ta emot parametrar och används för att återanvända kod, förbättra prestanda och säkerhet. En av funktionerna är automatiserade uppgifter, vilket innebär att den kan utföra flera SQL koder på en gång.\n"
   ]
  },
  {
   "cell_type": "markdown",
   "metadata": {},
   "source": [
    "# SCENARIO \n",
    "\n",
    "## UPPGIFT 1"
   ]
  },
  {
   "cell_type": "code",
   "execution_count": 1,
   "metadata": {},
   "outputs": [],
   "source": [
    "import pandas as pd \n",
    "from sqlalchemy import create_engine \n",
    "import plotly.express as px \n",
    "import streamlit as st \n",
    "import matplotlib.pyplot as plt\n"
   ]
  },
  {
   "cell_type": "markdown",
   "metadata": {},
   "source": [
    "### 1. Skapa en Anslutning till Databasen\n"
   ]
  },
  {
   "cell_type": "markdown",
   "metadata": {},
   "source": [
    "Stötter på problem när jag försöker skapa en anslutning enligt vad man har lärt sig från boken, märkte efter ett lite sökningar att ODBC driver 18 var ej installerad på datorn och det var ODBC driver 17. Därav behövde jag ändra koden vilket ledde till att det fungerar. \n"
   ]
  },
  {
   "cell_type": "code",
   "execution_count": 2,
   "metadata": {},
   "outputs": [],
   "source": [
    "engine = create_engine('mssql://@RYAN/AdventureWorks2022?trusted_connection=yes&driver=ODBC+Driver+17+for+SQL+Server')"
   ]
  },
  {
   "cell_type": "code",
   "execution_count": 3,
   "metadata": {},
   "outputs": [],
   "source": [
    "connection = engine.connect() "
   ]
  },
  {
   "cell_type": "markdown",
   "metadata": {},
   "source": [
    "### 2. Lista Tabeller i Databasen"
   ]
  },
  {
   "cell_type": "code",
   "execution_count": 4,
   "metadata": {},
   "outputs": [
    {
     "name": "stdout",
     "output_type": "stream",
     "text": [
      "                       NAME\n",
      "0              SalesTaxRate\n",
      "1          PersonCreditCard\n",
      "2               PersonPhone\n",
      "3            SalesTerritory\n",
      "4           PhoneNumberType\n",
      "..                      ...\n",
      "67                 Location\n",
      "68                 Password\n",
      "69  SalesPersonQuotaHistory\n",
      "70                   Person\n",
      "71              SalesReason\n",
      "\n",
      "[72 rows x 1 columns] \n",
      " Samtliga Tabeller i databasen\n"
     ]
    }
   ],
   "source": [
    "Query = \" SELECT NAME FROM sys.tables\" # sql fråga som hämtar alla tabeller i databasen\n",
    "df = pd.read_sql(Query, connection) # Läser in data från SQL Server \n",
    "\n",
    "print(df, \"\\n Samtliga Tabeller i databasen\")"
   ]
  },
  {
   "cell_type": "markdown",
   "metadata": {},
   "source": [
    "Jag behövde veta vilka tabeller tillhörde vilka scheman så jag utförde en inner join från tables tillsammans med schemas nedan för att få denna resultat. Fast jag kunde enkelt ha kollat under databasen > tabeller i MSSQL. Detta gör jag för att kunna utföra uppgiften där jag ska demonstrera intressanta aspekter av datan.\n",
    "\n",
    "Problemet jag stöttade på här var att eftersom VSCODE inte skrev ut alla rader, behövde jag filtrera ut de tabeller jag inte ville göra något med.. tog mig ett tag för att veta om jag behöver använda s.name eller t.name efter WHERE, samt så testade jag med WHERE s.name =! 'dbo', 'HumanResources', vilket gjorde så att jag endast kunde filtrera bort dbo schemat och inga fler.. till slut kom jag fram till resultatet nedan där jag fick använda NOT IN."
   ]
  },
  {
   "cell_type": "code",
   "execution_count": 5,
   "metadata": {},
   "outputs": [
    {
     "name": "stdout",
     "output_type": "stream",
     "text": [
      "        SchemaName                              TableName\n",
      "0   HumanResources                             Department\n",
      "1   HumanResources                               Employee\n",
      "2   HumanResources              EmployeeDepartmentHistory\n",
      "3   HumanResources                     EmployeePayHistory\n",
      "4   HumanResources                           JobCandidate\n",
      "5   HumanResources                                  Shift\n",
      "6       Production                        BillOfMaterials\n",
      "7       Production                                Culture\n",
      "8       Production                               Document\n",
      "9       Production                           Illustration\n",
      "10      Production                               Location\n",
      "11      Production                                Product\n",
      "12      Production                        ProductCategory\n",
      "13      Production                     ProductCostHistory\n",
      "14      Production                     ProductDescription\n",
      "15      Production                        ProductDocument\n",
      "16      Production                       ProductInventory\n",
      "17      Production                ProductListPriceHistory\n",
      "18      Production                           ProductModel\n",
      "19      Production               ProductModelIllustration\n",
      "20      Production  ProductModelProductDescriptionCulture\n",
      "21      Production                           ProductPhoto\n",
      "22      Production                    ProductProductPhoto\n",
      "23      Production                          ProductReview\n",
      "24      Production                     ProductSubcategory\n",
      "25      Production                            ScrapReason\n",
      "26      Production                     TransactionHistory\n",
      "27      Production              TransactionHistoryArchive\n",
      "28      Production                            UnitMeasure\n",
      "29      Production                              WorkOrder\n",
      "30      Production                       WorkOrderRouting\n",
      "31      Purchasing                          ProductVendor\n",
      "32      Purchasing                    PurchaseOrderDetail\n",
      "33      Purchasing                    PurchaseOrderHeader\n",
      "34      Purchasing                             ShipMethod\n",
      "35      Purchasing                                 Vendor\n",
      "36           Sales                  CountryRegionCurrency\n",
      "37           Sales                             CreditCard\n",
      "38           Sales                               Currency\n",
      "39           Sales                           CurrencyRate\n",
      "40           Sales                               Customer\n",
      "41           Sales                       PersonCreditCard\n",
      "42           Sales                       SalesOrderDetail\n",
      "43           Sales                       SalesOrderHeader\n",
      "44           Sales            SalesOrderHeaderSalesReason\n",
      "45           Sales                            SalesPerson\n",
      "46           Sales                SalesPersonQuotaHistory\n",
      "47           Sales                            SalesReason\n",
      "48           Sales                           SalesTaxRate\n",
      "49           Sales                         SalesTerritory\n",
      "50           Sales                  SalesTerritoryHistory\n",
      "51           Sales                       ShoppingCartItem\n",
      "52           Sales                           SpecialOffer\n",
      "53           Sales                    SpecialOfferProduct\n",
      "54           Sales                                  Store \n",
      " Lista över schema.tabeller utan 'dbo' och 'Person'\n"
     ]
    }
   ],
   "source": [
    "QUERY = \"\"\"\n",
    "SELECT s.name AS SchemaName, t.name AS TableName\n",
    "FROM sys.tables AS t\n",
    "INNER JOIN sys.schemas AS s\n",
    "ON t.schema_id = s.schema_id\n",
    "WHERE s.name NOT IN ('dbo', 'Person')\n",
    "ORDER BY s.name, t.name;\n",
    "\"\"\"\n",
    "df_filtered = pd.read_sql(QUERY, connection)\n",
    "\n",
    "print(df_filtered, \"\\n Lista över schema.tabeller utan 'dbo' och 'Person'\")\n",
    "\n"
   ]
  },
  {
   "cell_type": "markdown",
   "metadata": {},
   "source": [
    "Här skriver jag ut samtliga kolumner som finns i tabellen jag har valt \"HumanResources.Employee\" , jag valde just employee då namnet syftar på anställda och där brukar anställnings plats vara med och den informationen vill jag ha då jag vill få fram uppgifterna som uppgift 1 gav som exempel för att analysera.\n",
    "\n",
    "Problemet jag stötta på här var att jag hade för mig att WHERE HumanResources.Employee bör fungerat men där fick jag en error.. Efter lite sökning fram och tillbaka , insåg jag att man behöver specificera Table_NAME och schema separat. "
   ]
  },
  {
   "cell_type": "code",
   "execution_count": 6,
   "metadata": {},
   "outputs": [
    {
     "name": "stdout",
     "output_type": "stream",
     "text": [
      "          COLUMN_NAME\n",
      "0    BusinessEntityID\n",
      "1    NationalIDNumber\n",
      "2             LoginID\n",
      "3    OrganizationNode\n",
      "4   OrganizationLevel\n",
      "5            JobTitle\n",
      "6           BirthDate\n",
      "7       MaritalStatus\n",
      "8              Gender\n",
      "9            HireDate\n",
      "10       SalariedFlag\n",
      "11      VacationHours\n",
      "12     SickLeaveHours\n",
      "13        CurrentFlag\n",
      "14            rowguid\n",
      "15       ModifiedDate \n",
      " Kolumner i HumanResources.Employee\n"
     ]
    }
   ],
   "source": [
    "query = \"\"\"\n",
    "SELECT COLUMN_NAME\n",
    "FROM INFORMATION_SCHEMA.COLUMNS\n",
    "WHERE TABLE_NAME = 'Employee' AND TABLE_SCHEMA = 'HumanResources';\n",
    "\"\"\"\n",
    "df_employee_columns = pd.read_sql(query, connection) # df används för att läsa in data från SQL Server och står för data frame\n",
    "\n",
    "print(df_employee_columns, \"\\n Kolumner i HumanResources.Employee\")"
   ]
  },
  {
   "cell_type": "markdown",
   "metadata": {},
   "source": [
    "Nedan väljer jag några kolumner som jag ville skriva ut, där bland JobTitle, Birthdate, Gender, HireDate\n",
    "\n",
    "Dessa är intressanta då jag anser det är dessa delar av datan jag vill använda för att analysera "
   ]
  },
  {
   "cell_type": "code",
   "execution_count": 7,
   "metadata": {},
   "outputs": [
    {
     "name": "stdout",
     "output_type": "stream",
     "text": [
      "                          JobTitle   BirthDate Gender    HireDate\n",
      "0          Chief Executive Officer  1969-01-29      M  2009-01-14\n",
      "1    Vice President of Engineering  1971-08-01      F  2008-01-31\n",
      "2              Engineering Manager  1974-11-12      M  2007-11-11\n",
      "3             Senior Tool Designer  1974-12-23      M  2007-12-05\n",
      "4                  Design Engineer  1952-09-27      F  2008-01-06\n",
      "..                             ...         ...    ...         ...\n",
      "285           Sales Representative  1977-02-14      F  2013-05-30\n",
      "286         European Sales Manager  1957-09-20      F  2012-04-16\n",
      "287           Sales Representative  1975-07-09      F  2013-05-30\n",
      "288           Sales Representative  1968-03-17      F  2012-05-30\n",
      "289           Sales Representative  1975-09-30      M  2012-05-30\n",
      "\n",
      "[290 rows x 4 columns]\n"
     ]
    }
   ],
   "source": [
    "\n",
    "query = \"\"\" \n",
    "SELECT JobTitle, BirthDate, Gender, HireDate\n",
    "FROM HumanResources.Employee; \n",
    "\"\"\"\n",
    "df = pd.read_sql(query, connection)\n",
    "\n",
    "print(df)"
   ]
  },
  {
   "cell_type": "markdown",
   "metadata": {},
   "source": [
    "### 3. Hämta och Analysera Data från en Tabell\n"
   ]
  },
  {
   "cell_type": "markdown",
   "metadata": {},
   "source": [
    "Med hjälp av Streamlit och instruktionerna i boken, skapar jag en visualisering av datan över Arbetstittel och antalet anställda per arbetstitell. Jag behövde använda en .py (python filformat) och eftersom jag har kört alla dessa koder i ipynb (Jupyter Notebook fil), behövde jag köra nedan kod I egen fält. Jag demonstrar koden nedan ändå men den behövde köras i en annan.\n",
    "\n",
    "För att kunna slutföra den behövde jag även köra streamlit run (filnamnet.py) i terminalen för att sedan få ut resultatet.\n",
    "\n",
    "Jag funderade över att göra visualiseringen genom matplotlib men eftersom boken handlade om Streamlit, så valde jag detta istället."
   ]
  },
  {
   "cell_type": "code",
   "execution_count": null,
   "metadata": {},
   "outputs": [],
   "source": [
    "query = \"\"\"\n",
    "SELECT TOP 10 JobTitle, COUNT(*) AS Antal  \n",
    "FROM HumanResources.Employee\n",
    "GROUP BY JobTitle\n",
    "ORDER BY Antal DESC;\n",
    "\"\"\"\n",
    "\n",
    "df = pd.read_sql(query, con=engine)\n",
    "\n",
    "# Förbereda data för visning och filtrering\n",
    "st.title(\"Overview of Job Titles\")\n",
    "st.write(\"This app displays the top 10 job titles from the AdventureWorks2022 database.\")\n",
    "\n",
    "unique_titles = df['JobTitle'].unique() # filtrerar unika jobbtitlar\n",
    "selected_title = st.selectbox(\"Filter by Job Title\", options=unique_titles, index=0) # skapar en selectbox för att filtrera data\n",
    "\n",
    "if selected_title == \"All Titles\": # om man väljer \"All Titles\" visas alla jobbtitlar\n",
    "    filtered_df = df \n",
    "else:\n",
    "    filtered_df = df[df['JobTitle'] == selected_title] # annars visas endast den valda jobbtiteln\n",
    "\n",
    "# Visa filtrerad data som tabell\n",
    "st.dataframe(filtered_df.style.format({\"Antal\": \"{:.0f}\"}))\n",
    "\n",
    "# Skapa och visa ett stapeldiagram\n",
    "fig = px.bar(\n",
    "    filtered_df,\n",
    "    x=\"JobTitle\",\n",
    "    y=\"Antal\",\n",
    "    title=f\"Antal per Job Title: {selected_title if selected_title != 'All Titles' else 'All Titles'}\",\n",
    "    labels={\"JobTitle\": \"Job Title\", \"Antal\": \"Number of Employees\"},\n",
    "    color=\"JobTitle\",\n",
    "    barmode=\"group\"\n",
    ")\n",
    "st.plotly_chart(fig)\n"
   ]
  },
  {
   "cell_type": "markdown",
   "metadata": {},
   "source": [
    "## Analysera datan och resultaten du tagit fram. Vilka slutsatser och rekommendationer kan du ge?"
   ]
  },
  {
   "cell_type": "markdown",
   "metadata": {},
   "source": [
    "- **Slutsatser**:\n",
    "\n",
    "Enligt den data som jag har fått fram angående antalet anställda på företaget kan jag se att majoritet av anställda har jobbtiteln Production Technician.\n",
    "Detta kan vara en indikation på att det är en stor del av anställda som jobbar med produktion på företaget. \n",
    "Där man även kan se att de arbetstittlar som ej är produktionsrelaterade är i minoritet. Av dessa är Sales representive, buyer och marketing specialist.\n",
    "\n",
    "Detta indikera att produktion är en stor del av företagets verksamhet och att försäljning eller marknadsföring inte har lika stor fokus.\n",
    "\n",
    "**Rekomendationer**:\n",
    "\n",
    "- För att utöka företagets förmåga att sälja produkter och tjänster kan det vara bra att överväga att anställa fler säljare eller marknadsförare.\n",
    "\n",
    "- Man kan även se över automatisering av produktionen för att minska behovet av arbetskraften. Detta kan leda till att företaget kan sälja mer produkter och tjänster och därmed öka sin omsättning.\n",
    "\n"
   ]
  },
  {
   "cell_type": "markdown",
   "metadata": {},
   "source": []
  },
  {
   "cell_type": "markdown",
   "metadata": {},
   "source": [
    "Jag insåg ganska sent efter att ha gjort allt ovan att kraven för G-Nivå är: **Vi ser att männen i företaget är i snitt 45 år gamla och tjänar 34 400 kr medan kvinnorna i snitt är 37 år gamla och har en medellön på 40 200 kr.**\n",
    "\n",
    "Därav började jag ta fram (med hjälp av MSSQL), vilka databaser inehåller den information jag behöver för att komma fram till resultatet. Ganska fort så hittade jag HumanResources.Employee och HumanResources.EmployeePayHistory.\n",
    "\n",
    "Kolumnerna jag behövde använda var enligt nedan. Jag fick väldigt mycket svårigheter i att omvandla Birthdate till ålder, därav började jag med att leta fram en databas som möjligt hade alla åldrar redan uträknade, men lyckades tyvärr inte.\n",
    "\n",
    "Sedan hittade jag online att jag behövde omvanda BirthDate till ett format som pandas kan läsa och sedan använda det för att räkna ut datumet från birth fram till dagensdatum. \n",
    "\n",
    "Jag ska vara ärlig med att jag tog hjälp av GitHub för att komma på hur jag ska utföra grupperingarna då jag försökte köra grouped = df.grupby(['BirthDate, 'Gender'] ['Rate']) men detta fungerade inte bra då BirthDate tog med alla möjliga datum och grafen blev kaotiskt.\n",
    "\n"
   ]
  },
  {
   "cell_type": "code",
   "execution_count": null,
   "metadata": {},
   "outputs": [
    {
     "name": "stderr",
     "output_type": "stream",
     "text": [
      "C:\\Users\\RyanL\\AppData\\Local\\Temp\\ipykernel_14852\\3937683732.py:21: FutureWarning:\n",
      "\n",
      "The default of observed=False is deprecated and will be changed to True in a future version of pandas. Pass observed=False to retain current behavior or observed=True to adopt the future default and silence this warning.\n",
      "\n"
     ]
    },
    {
     "data": {
      "image/png": "[encoded data removed]",
      "text/plain": [
       "<Figure size 1000x600 with 1 Axes>"
      ]
     },
     "metadata": {},
     "output_type": "display_data"
    }
   ],
   "source": [
    "# Hämta data från EmployeePayHistory och Employee\n",
    "query_employee_pay = \"\"\"\n",
    "SELECT \n",
    "    A.BusinessEntityID,\n",
    "    A.Rate,\n",
    "    B.Gender,\n",
    "    B.BirthDate\n",
    "FROM HumanResources.EmployeePayHistory AS A\n",
    "INNER JOIN HumanResources.Employee AS B\n",
    "ON A.BusinessEntityID = B.BusinessEntityID\n",
    "\"\"\"\n",
    "with engine.connect() as connection:\n",
    "    df = pd.read_sql(query_employee_pay, connection)\n",
    "\n",
    "df['BirthDate'] = pd.to_datetime(df['BirthDate']) \n",
    "df['Age'] = (pd.to_datetime(\"today\") - df['BirthDate']).dt.days / 365 \n",
    "\n",
    "df['AgeGroup'] = pd.cut(df['Age'], bins=[20, 30, 40, 50, 60, 70], labels=['20-29', '30-39', '40-49', '50-59', '60-69'])\n",
    "\n",
    "\n",
    "grouped = df.groupby(['AgeGroup', 'Gender'])['Rate'].mean().unstack()  \n",
    "\n",
    "#Med hjälp av matliplot skapar jag en stapeldiagram (bar char)\n",
    "\n",
    "grouped.plot(kind='bar', figsize=(10, 6), color=['blue', 'red'])\n",
    "\n",
    "\n",
    "plt.title(\"Genomsnittlig lön per åldersgrupp och kön\")\n",
    "plt.xlabel(\"Åldersgrupp\")\n",
    "plt.ylabel(\"Genomsnittlig lön\")\n",
    "plt.legend(title=\"Kön\", labels=[\"Män\", \"Kvinnor\"])\n",
    "plt.grid(axis='y', linestyle='--', alpha=0.7)\n",
    "plt.tight_layout()\n",
    "plt.show()\n"
   ]
  },
  {
   "cell_type": "markdown",
   "metadata": {},
   "source": [
    " ## **Självvärdering*\n",
    " \n",
    " **1. Utmaningar du haft under arbetet samt hur du hanterat dem.**\n",
    "\n",
    "    Jag har haft utmaningar med att komma ihåg allt man har lärt sig.. och hur man ska använda det man har lärt sig. Som tur är att när jag gick igenom boken så tog jag väldigt mycket anteckningar och testade egna koder. Detta har varit till stor hjälp för att jag kunde bättre komma ihåg och visualisera hur programmeringen såg ut. Samtidigt dem flesta problemen hanterade genom att gå till boken och mina anteckningar för att fräscha upp minnet \n",
    "    Något jag känner var väldigt utmanande att implantera SQL med Python. Detta tycker jag var väldigt lite av i boken och boken visade endast hur koderna gick till i slutet på en kapitel. Jag tycker det fanns väldigt lite hjälp för att felsöka och felhantera. För att komma förbi denna svårighet fick jag gå igenom en del av mina gamla anteckningar från python utbildningen.\n",
    "\n",
    " **2. Vilket betyg du anser att du skall ha och varför.**\n",
    "\n",
    "    Jag anser att jag ligger på G-nivå. Detta för att jag har haft en hel del utmaningar som jag egentligen överkom till slut, men detta ledde till att jag inte hade möjligheten att fördjupa mig yttligare till den nivån med mina koder som jag egentligen hade önskat..\n",
    "\n",
    " **3. Tips du hade gett till dig själv i början av kursen nu när du slutfört den.**\n",
    "\n",
    "    Jag känner att jag satte mig med alla koder från boken och skrev egna koder utifrån dem, samt felsökte och fördjupade mig i att förstå dem redan från första kapitlarna.. detta tog väldigt mycket av min tid och gjorde det svårare för mig att komma vidare då jag hängde upp mig på små saker. Jag hade nog kört på lite mer och repeterat efteråt istället för att fastna, felsöka och fördjupa redan i början."
   ]
  },
  {
   "cell_type": "markdown",
   "metadata": {},
   "source": []
  }
 ],
 "metadata": {
  "kernelspec": {
   "display_name": "Python 3",
   "language": "python",
   "name": "python3"
  },
  "language_info": {
   "codemirror_mode": {
    "name": "ipython",
    "version": 3
   },
   "file_extension": ".py",
   "mimetype": "text/x-python",
   "name": "python",
   "nbconvert_exporter": "python",
   "pygments_lexer": "ipython3",
   "version": "3.12.8"
  }
 },
 "nbformat": 4,
 "nbformat_minor": 2
}
